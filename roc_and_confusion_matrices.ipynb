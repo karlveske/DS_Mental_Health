{
 "cells": [
  {
   "cell_type": "markdown",
   "id": "8dbc0849-02bf-4ce0-b467-8b506c5cf7c7",
   "metadata": {},
   "source": [
    "Impordime eeltöödeldud andmed ja treenime Random Forestit (esialgu suvaliste parameetritega)"
   ]
  },
  {
   "cell_type": "code",
   "execution_count": 1,
   "id": "5c26ea1a-e750-4f71-bbc8-3bad77684969",
   "metadata": {},
   "outputs": [],
   "source": [
    "import pandas as pd\n",
    "import numpy as np\n",
    "X_train = pd.read_csv('X_train_sub.csv')\n",
    "X_train.drop(columns='Unnamed: 0', inplace=True)\n",
    "y_train = pd.read_csv('y_train_sub.csv')\n",
    "\n",
    "from sklearn.ensemble import RandomForestClassifier\n",
    "rf = RandomForestClassifier(n_estimators=16, max_depth=4, random_state=11).fit(X_train, y_train)"
   ]
  },
  {
   "cell_type": "markdown",
   "id": "9b9c83e8-535e-4bd3-a0c3-950612980824",
   "metadata": {},
   "source": [
    "Impordime varasemalt eraldatud valideerimisandmestiku ja prognoosime tõenäosused selle peal"
   ]
  },
  {
   "cell_type": "code",
   "execution_count": 2,
   "id": "ee1f29ca-0f07-46b5-9918-18a3c7fef4a9",
   "metadata": {},
   "outputs": [
    {
     "data": {
      "text/plain": [
       "0       0.136952\n",
       "1       0.211811\n",
       "2       0.155964\n",
       "3       0.693278\n",
       "4       0.624784\n",
       "          ...   \n",
       "7652    0.207595\n",
       "7653    0.476757\n",
       "7654    0.515501\n",
       "7655    0.436619\n",
       "7656    0.233758\n",
       "Name: b, Length: 7657, dtype: float64"
      ]
     },
     "execution_count": 2,
     "metadata": {},
     "output_type": "execute_result"
    }
   ],
   "source": [
    "X_val = pd.read_csv('X_val.csv')\n",
    "X_val.drop(columns='Unnamed: 0', inplace=True)\n",
    "y_val = pd.read_csv('y_val.csv')\n",
    "y_val = y_val.y\n",
    "\n",
    "probs = rf.predict_proba(X_val)[1]\n",
    "assert np.isclose(probs.sum(axis=1), 1).all() # check that all rows sum up to 1\n",
    "\n",
    "probs = pd.DataFrame(probs, columns=['a', 'b']) # Store in pandas Dataframe with two columns\n",
    "probs = probs.b # Keep only one column (store as a pandas Series)\n",
    "\n",
    "probs"
   ]
  },
  {
   "cell_type": "markdown",
   "id": "fc662393-951e-41ea-b87a-99aecd80f83e",
   "metadata": {},
   "source": [
    "Tekitame lävendite (*cutoff*) järjendi. Kuna kümnete tuhandete kirjete puhul pole mõtet võtta sellesse kõiki võimalikke ennustatud tõenäosusi, võtame need sammuga 0,5 protsendipunkti."
   ]
  },
  {
   "cell_type": "code",
   "execution_count": 3,
   "id": "35c9e980-3158-4b2c-8818-7dcfc9d8c82a",
   "metadata": {},
   "outputs": [
    {
     "data": {
      "text/html": [
       "<div>\n",
       "<style scoped>\n",
       "    .dataframe tbody tr th:only-of-type {\n",
       "        vertical-align: middle;\n",
       "    }\n",
       "\n",
       "    .dataframe tbody tr th {\n",
       "        vertical-align: top;\n",
       "    }\n",
       "\n",
       "    .dataframe thead th {\n",
       "        text-align: right;\n",
       "    }\n",
       "</style>\n",
       "<table border=\"1\" class=\"dataframe\">\n",
       "  <thead>\n",
       "    <tr style=\"text-align: right;\">\n",
       "      <th></th>\n",
       "      <th>cutoff</th>\n",
       "    </tr>\n",
       "  </thead>\n",
       "  <tbody>\n",
       "    <tr>\n",
       "      <th>0</th>\n",
       "      <td>0.005</td>\n",
       "    </tr>\n",
       "    <tr>\n",
       "      <th>1</th>\n",
       "      <td>0.010</td>\n",
       "    </tr>\n",
       "    <tr>\n",
       "      <th>2</th>\n",
       "      <td>0.015</td>\n",
       "    </tr>\n",
       "    <tr>\n",
       "      <th>3</th>\n",
       "      <td>0.020</td>\n",
       "    </tr>\n",
       "    <tr>\n",
       "      <th>4</th>\n",
       "      <td>0.025</td>\n",
       "    </tr>\n",
       "    <tr>\n",
       "      <th>...</th>\n",
       "      <td>...</td>\n",
       "    </tr>\n",
       "    <tr>\n",
       "      <th>194</th>\n",
       "      <td>0.975</td>\n",
       "    </tr>\n",
       "    <tr>\n",
       "      <th>195</th>\n",
       "      <td>0.980</td>\n",
       "    </tr>\n",
       "    <tr>\n",
       "      <th>196</th>\n",
       "      <td>0.985</td>\n",
       "    </tr>\n",
       "    <tr>\n",
       "      <th>197</th>\n",
       "      <td>0.990</td>\n",
       "    </tr>\n",
       "    <tr>\n",
       "      <th>198</th>\n",
       "      <td>0.995</td>\n",
       "    </tr>\n",
       "  </tbody>\n",
       "</table>\n",
       "<p>199 rows × 1 columns</p>\n",
       "</div>"
      ],
      "text/plain": [
       "     cutoff\n",
       "0     0.005\n",
       "1     0.010\n",
       "2     0.015\n",
       "3     0.020\n",
       "4     0.025\n",
       "..      ...\n",
       "194   0.975\n",
       "195   0.980\n",
       "196   0.985\n",
       "197   0.990\n",
       "198   0.995\n",
       "\n",
       "[199 rows x 1 columns]"
      ]
     },
     "execution_count": 3,
     "metadata": {},
     "output_type": "execute_result"
    }
   ],
   "source": [
    "cutoffs = pd.DataFrame({'cutoff':np.arange(0.005,1,0.005)}) \n",
    "cutoffs"
   ]
  },
  {
   "cell_type": "markdown",
   "id": "929a815c-9b8f-476a-bdec-261a711763c5",
   "metadata": {},
   "source": [
    "Arvutame *TPR* ja *FPR* indeksid ja *accuracy* iga lävendi puhul:"
   ]
  },
  {
   "cell_type": "code",
   "execution_count": 4,
   "id": "966ca4c9-f97e-4889-b497-0275833d81ad",
   "metadata": {
    "scrolled": true
   },
   "outputs": [],
   "source": [
    "tpr = cutoffs.apply(lambda cut: np.sum(np.logical_and(probs >= cut.iloc[0], y_val == 1)) / np.sum(y_val == 1), axis=1)\n",
    "fpr = cutoffs.apply(lambda cut: np.sum(np.logical_and(probs >= cut.iloc[0], y_val == 0)) / np.sum(y_val == 0), axis=1)\n",
    "\n",
    "stats = pd.DataFrame({'cutoff':cutoffs.cutoff, 'tpr':tpr, 'fpr':fpr})\n",
    "\n",
    "tp_count = cutoffs.apply(lambda cut: np.sum(np.logical_and(probs >= cut.values[0], y_val == 1)), axis=1)\n",
    "fp_count = cutoffs.apply(lambda cut: np.sum(np.logical_and(probs >= cut.values[0], y_val == 0)), axis=1)\n",
    "tn_count = cutoffs.apply(lambda cut: np.sum(np.logical_and(probs < cut.values[0], y_val == 0)), axis=1)\n",
    "fn_count = cutoffs.apply(lambda cut: np.sum(np.logical_and(probs < cut.values[0], y_val == 1)), axis=1)\n",
    "\n",
    "stats['tp_count'] = tp_count\n",
    "stats['fp_count'] = fp_count\n",
    "stats['tn_count'] = tn_count\n",
    "stats['fn_count'] = fn_count\n",
    "stats['accuracy'] = (stats['tp_count'] + stats['tn_count']) / len(probs)\n",
    "stats['precision'] = stats['tp_count'] / (stats['tp_count'] + stats['fp_count'])\n",
    "stats['recall'] = stats['tp_count'] / (stats['tp_count'] + stats['fn_count'])"
   ]
  },
  {
   "cell_type": "markdown",
   "id": "1726024f-59c9-4760-88e3-8c86493a728d",
   "metadata": {},
   "source": [
    "Leiame parimad väärtused:"
   ]
  },
  {
   "cell_type": "code",
   "execution_count": 5,
   "id": "e1e93bd6-8466-4da7-b32e-8eda948050d6",
   "metadata": {},
   "outputs": [
    {
     "name": "stdout",
     "output_type": "stream",
     "text": [
      "Max accuracy:  0.8874232728222542  ( cutoff  0.435 , precision  0.855552867166707 )\n",
      "\n",
      "Max precision:  1.0  ( cutoff  0.9 , accuracy  0.5055504766879979 )\n",
      "\n"
     ]
    }
   ],
   "source": [
    "cutoff1 = stats.accuracy.idxmax(axis=0, skipna=True)\n",
    "print('Max accuracy: ', stats.loc[cutoff1]['accuracy'], \n",
    "      ' ( cutoff ', stats.loc[cutoff1]['cutoff'], ', precision ', stats.loc[cutoff1]['precision'], ')\\n')\n",
    "\n",
    "cutoff2 = stats.precision.idxmax(axis=0, skipna=True)\n",
    "print('Max precision: ', stats.loc[cutoff2]['precision'],\n",
    "      ' ( cutoff ', stats.loc[cutoff2]['cutoff'], ', accuracy ', stats.loc[cutoff2]['accuracy'], ')\\n')\n"
   ]
  },
  {
   "cell_type": "markdown",
   "id": "e0dca1e8-465a-4b98-af94-8e8579f97eb4",
   "metadata": {},
   "source": [
    "Tekitame *ROC* kõvera:"
   ]
  },
  {
   "cell_type": "code",
   "execution_count": 6,
   "id": "83e8f4dc-354a-4d52-9244-de00462a6444",
   "metadata": {},
   "outputs": [
    {
     "data": {
      "image/png": "[encoded data removed]",
      "text/plain": [
       "<Figure size 640x480 with 1 Axes>"
      ]
     },
     "metadata": {},
     "output_type": "display_data"
    }
   ],
   "source": [
    "import matplotlib.pyplot as plt\n",
    "plt.title(\"ROC\")\n",
    "plt.plot(stats['fpr'], stats['tpr'])\n",
    "plt.plot(stats.loc[cutoff1]['fpr'], stats.loc[cutoff1]['tpr'], color='red', marker='o', markersize=5, label=\"max accuracy\")\n",
    "plt.plot(stats.loc[cutoff2]['fpr'], stats.loc[cutoff2]['tpr'], color='blue', marker='o', markersize=5, label=\"max precision\")\n",
    "plt.xlabel('false positive rate')\n",
    "plt.ylabel('true positive rate')\n",
    "plt.legend()\n",
    "plt.show()"
   ]
  },
  {
   "cell_type": "code",
   "execution_count": 7,
   "id": "d357aece-b05c-4335-9cf7-f6e63f7c8fa9",
   "metadata": {},
   "outputs": [],
   "source": [
    "kaggle_test = pd.read_csv('test_cleaner2.csv')\n",
    "kaggle_test.drop(columns=['Name'], inplace=True)"
   ]
  },
  {
   "cell_type": "markdown",
   "id": "127df408-7b70-4c8d-8e20-a7f6dbc2107e",
   "metadata": {},
   "source": [
    "Prognoosime Kaggle'i test-andmestiku tulemused (<font color='red'>kuna kogu andmestiku korraga töötlemine annab mälu-*error*'i, siis töötleme osade kaupa</font>):"
   ]
  },
  {
   "cell_type": "code",
   "execution_count": 8,
   "id": "8e252ad5-14ee-4a4b-bdcf-60c1106ec435",
   "metadata": {},
   "outputs": [
    {
     "name": "stderr",
     "output_type": "stream",
     "text": [
      "C:\\Users\\ksiim\\AppData\\Local\\Temp\\ipykernel_1828\\4213796876.py:11: FutureWarning: The behavior of array concatenation with empty entries is deprecated. In a future version, this will no longer exclude empty items when determining the result dtype. To retain the old behavior, exclude the empty entries before the concat operation.\n",
      "  kaggle_probs = pd.concat([kaggle_probs, kaggle_probs_sub])\n"
     ]
    },
    {
     "data": {
      "text/plain": [
       "0       0.230719\n",
       "1       0.210321\n",
       "2       0.441611\n",
       "3       0.813055\n",
       "4       0.333972\n",
       "          ...   \n",
       "3795    0.264122\n",
       "3796    0.634798\n",
       "3797    0.524880\n",
       "3798    0.603600\n",
       "3799    0.258425\n",
       "Length: 93800, dtype: float64"
      ]
     },
     "execution_count": 8,
     "metadata": {},
     "output_type": "execute_result"
    }
   ],
   "source": [
    "kaggle_probs = pd.Series()\n",
    "for i in range(len(kaggle_test) // 10000 + 1):\n",
    "    a = i * 10000\n",
    "    b = min(a + 10000, len(kaggle_test))\n",
    "    kaggle_probs_sub = rf.predict_proba(kaggle_test[a:b])[1]\n",
    "    assert np.isclose(kaggle_probs_sub.sum(axis=1), 1).all() # check that all rows sum up to 1\n",
    "    \n",
    "    kaggle_probs_sub = pd.DataFrame(kaggle_probs_sub, columns=['a', 'b']) # Store in pandas Dataframe with two columns\n",
    "    kaggle_probs_sub = kaggle_probs_sub.b # Keep only one column (store as a pandas Series)\n",
    "    \n",
    "    kaggle_probs = pd.concat([kaggle_probs, kaggle_probs_sub])\n",
    "kaggle_probs"
   ]
  },
  {
   "cell_type": "markdown",
   "id": "e65b6fef-368f-4b63-b67f-418e3afea4e2",
   "metadata": {},
   "source": [
    "Vormistame kaggle'i võistluse jaoks sobiva formaadi ja teeme csv:"
   ]
  },
  {
   "cell_type": "code",
   "execution_count": 9,
   "id": "d820b952-fed4-455a-9323-3d551cdc474f",
   "metadata": {},
   "outputs": [],
   "source": [
    "kaggle_csv = pd.DataFrame(data={'id': kaggle_test.id})\n",
    "depression = []\n",
    "for i in range(len(kaggle_probs)):\n",
    "    if kaggle_probs.iloc[i] >= stats.loc[cutoff1]['accuracy']: depression.append(1)\n",
    "    else: depression.append(0)\n",
    "kaggle_csv['Depression'] = depression\n",
    "\n",
    "kaggle_csv.to_csv('kaggle_csv.csv', index=False)"
   ]
  }
 ],
 "metadata": {
  "kernelspec": {
   "display_name": "Python 3 (ipykernel)",
   "language": "python",
   "name": "python3"
  },
  "language_info": {
   "codemirror_mode": {
    "name": "ipython",
    "version": 3
   },
   "file_extension": ".py",
   "mimetype": "text/x-python",
   "name": "python",
   "nbconvert_exporter": "python",
   "pygments_lexer": "ipython3",
   "version": "3.12.6"
  }
 },
 "nbformat": 4,
 "nbformat_minor": 5
}
