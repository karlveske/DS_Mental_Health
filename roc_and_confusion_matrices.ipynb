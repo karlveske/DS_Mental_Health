{
 "cells": [
  {
   "cell_type": "markdown",
   "id": "8dbc0849-02bf-4ce0-b467-8b506c5cf7c7",
   "metadata": {},
   "source": [
    "Impordime eeltöödeldud andmed ja treenime Random Forestit (esialgu suvaliste parameetritega)"
   ]
  },
  {
   "cell_type": "code",
   "execution_count": 1,
   "id": "5c26ea1a-e750-4f71-bbc8-3bad77684969",
   "metadata": {},
   "outputs": [],
   "source": [
    "import pandas as pd\n",
    "import numpy as np\n",
    "X_train = pd.read_csv('X_train_sub.csv')\n",
    "y_train = pd.read_csv('y_train_sub.csv')\n",
    "\n",
    "from sklearn.ensemble import RandomForestClassifier\n",
    "rf = RandomForestClassifier(n_estimators=10, max_depth=4, random_state=11).fit(X_train, y_train)"
   ]
  },
  {
   "cell_type": "markdown",
   "id": "9b9c83e8-535e-4bd3-a0c3-950612980824",
   "metadata": {},
   "source": [
    "Impordime varasemalt eraldatud valideerimisandmestiku ja prognoosime tõenäosused selle peal"
   ]
  },
  {
   "cell_type": "code",
   "execution_count": null,
   "id": "ee1f29ca-0f07-46b5-9918-18a3c7fef4a9",
   "metadata": {},
   "outputs": [],
   "source": [
    "X_val = pd.read_csv('X_val.csv')\n",
    "y_val = pd.read_csv('y_val.csv')\n",
    "y_val = y_val.y\n",
    "\n",
    "probs = rf.predict_proba(X_val)[1]\n",
    "assert np.isclose(probs.sum(axis=1), 1).all() # check that all rows sum up to 1\n",
    "\n",
    "probs = pd.DataFrame(probs, columns=['a', 'b']) # Store in pandas Dataframe with two columns\n",
    "probs = probs.b # Keep only one column (store as a pandas Series)\n",
    "\n",
    "probs"
   ]
  },
  {
   "cell_type": "markdown",
   "id": "fc662393-951e-41ea-b87a-99aecd80f83e",
   "metadata": {},
   "source": [
    "Tekitame lävendite (*cutoff*) järjendi. Kuna kümnete tuhandete kirjete puhul pole mõtet võtta sellesse kõiki võimalikke ennustatud tõenäosusi, võtame need sammuga 0,5 protsendipunkti."
   ]
  },
  {
   "cell_type": "code",
   "execution_count": null,
   "id": "35c9e980-3158-4b2c-8818-7dcfc9d8c82a",
   "metadata": {},
   "outputs": [],
   "source": [
    "cutoffs = pd.DataFrame({'cutoff':np.arange(0.005,1,0.005)}) \n",
    "cutoffs"
   ]
  },
  {
   "cell_type": "markdown",
   "id": "929a815c-9b8f-476a-bdec-261a711763c5",
   "metadata": {},
   "source": [
    "Arvutame *TPR* ja *FPR* indeksid ja *accuracy* iga lävendi puhul:"
   ]
  },
  {
   "cell_type": "code",
   "execution_count": null,
   "id": "966ca4c9-f97e-4889-b497-0275833d81ad",
   "metadata": {
    "scrolled": true
   },
   "outputs": [],
   "source": [
    "tpr = cutoffs.apply(lambda cut: np.sum(np.logical_and(probs >= cut.iloc[0], y_val == 1)) / np.sum(y_val == 1), axis=1)\n",
    "fpr = cutoffs.apply(lambda cut: np.sum(np.logical_and(probs >= cut.iloc[0], y_val == 0)) / np.sum(y_val == 0), axis=1)\n",
    "\n",
    "stats = pd.DataFrame({'cutoff':cutoffs.cutoff, 'tpr':tpr, 'fpr':fpr})\n",
    "\n",
    "tp_count = cutoffs.apply(lambda cut: np.sum(np.logical_and(probs >= cut.values[0], y_val == 1)), axis=1)\n",
    "fp_count = cutoffs.apply(lambda cut: np.sum(np.logical_and(probs >= cut.values[0], y_val == 0)), axis=1)\n",
    "tn_count = cutoffs.apply(lambda cut: np.sum(np.logical_and(probs < cut.values[0], y_val == 0)), axis=1)\n",
    "fn_count = cutoffs.apply(lambda cut: np.sum(np.logical_and(probs < cut.values[0], y_val == 1)), axis=1)\n",
    "\n",
    "stats['tp_count'] = tp_count\n",
    "stats['fp_count'] = fp_count\n",
    "stats['tn_count'] = tn_count\n",
    "stats['fn_count'] = fn_count\n",
    "stats['accuracy'] = (stats['tp_count'] + stats['tn_count']) / len(probs)\n",
    "stats['precision'] = stats['tp_count'] / (stats['tp_count'] + stats['fp_count'])\n",
    "stats['recall'] = stats['tp_count'] / (stats['tp_count'] + stats['fn_count'])"
   ]
  },
  {
   "cell_type": "markdown",
   "id": "1726024f-59c9-4760-88e3-8c86493a728d",
   "metadata": {},
   "source": [
    "Leiame parimad väärtused:"
   ]
  },
  {
   "cell_type": "code",
   "execution_count": null,
   "id": "e1e93bd6-8466-4da7-b32e-8eda948050d6",
   "metadata": {},
   "outputs": [],
   "source": [
    "cutoff1 = stats.accuracy.idxmax(axis=0, skipna=True)\n",
    "print('Max accuracy: ', stats.loc[cutoff1]['accuracy'], \n",
    "      ' ( cutoff ', stats.loc[cutoff1]['cutoff'], ', precision ', stats.loc[cutoff1]['precision'], ')\\n')\n",
    "\n",
    "cutoff2 = stats.precision.idxmax(axis=0, skipna=True)\n",
    "print('Max precision: ', stats.loc[cutoff2]['precision'],\n",
    "      ' ( cutoff ', stats.loc[cutoff2]['cutoff'], ', accuracy ', stats.loc[cutoff2]['accuracy'], ')\\n')\n"
   ]
  },
  {
   "cell_type": "markdown",
   "id": "e0dca1e8-465a-4b98-af94-8e8579f97eb4",
   "metadata": {},
   "source": [
    "Tekitame *ROC* kõvera:"
   ]
  },
  {
   "cell_type": "code",
   "execution_count": null,
   "id": "83e8f4dc-354a-4d52-9244-de00462a6444",
   "metadata": {},
   "outputs": [],
   "source": [
    "import matplotlib.pyplot as plt\n",
    "plt.title(\"ROC\")\n",
    "plt.plot(stats['fpr'], stats['tpr'])\n",
    "plt.plot(stats.loc[cutoff1]['fpr'], stats.loc[cutoff1]['tpr'], color='red', marker='o', markersize=5, label=\"max accuracy\")\n",
    "plt.plot(stats.loc[cutoff2]['fpr'], stats.loc[cutoff2]['tpr'], color='blue', marker='o', markersize=5, label=\"max precision\")\n",
    "plt.xlabel('false positive rate')\n",
    "plt.ylabel('true positive rate')\n",
    "plt.legend()\n",
    "plt.show()"
   ]
  },
  {
   "cell_type": "code",
   "execution_count": null,
   "id": "d357aece-b05c-4335-9cf7-f6e63f7c8fa9",
   "metadata": {},
   "outputs": [],
   "source": [
    "probs.to_csv('probs.csv')"
   ]
  }
 ],
 "metadata": {
  "kernelspec": {
   "display_name": "Python 3 (ipykernel)",
   "language": "python",
   "name": "python3"
  },
  "language_info": {
   "codemirror_mode": {
    "name": "ipython",
    "version": 3
   },
   "file_extension": ".py",
   "mimetype": "text/x-python",
   "name": "python",
   "nbconvert_exporter": "python",
   "pygments_lexer": "ipython3",
   "version": "3.12.6"
  }
 },
 "nbformat": 4,
 "nbformat_minor": 5
}
